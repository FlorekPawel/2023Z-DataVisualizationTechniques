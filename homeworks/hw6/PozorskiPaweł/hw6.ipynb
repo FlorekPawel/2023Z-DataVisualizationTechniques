{
 "cells": [
  {
   "cell_type": "code",
   "execution_count": 1,
   "metadata": {},
   "outputs": [],
   "source": [
    "import graph_tool.all as gt\n",
    "\n",
    "g = gt.collection.ns[\"eu_airlines\"]"
   ]
  },
  {
   "cell_type": "code",
   "execution_count": 2,
   "metadata": {},
   "outputs": [],
   "source": [
    "latitude = g.vp[\"nodeLat\"]\n",
    "longitude = g.vp[\"nodeLong\"]\n",
    "name = g.vp[\"name\"]\n",
    "layer = g.ep[\"layer\"]\n",
    "SELECTED = \"EPWA\"\n",
    "\n",
    "from_warsaw = []\n",
    "\n",
    "for e in g.edges():\n",
    "    source = g.vertex(e.source())\n",
    "    target = g.vertex(e.target())\n",
    "\n",
    "    if name[e.source()] == SELECTED:\n",
    "        from_warsaw.append(target)\n",
    "    elif name[e.target()] == SELECTED:\n",
    "        from_warsaw.append(source)"
   ]
  },
  {
   "cell_type": "code",
   "execution_count": 12,
   "metadata": {},
   "outputs": [],
   "source": [
    "import folium\n",
    "import matplotlib.pyplot as plt\n",
    "\n",
    "map = folium.Map(location=[50.0, 10.0], zoom_start=4)\n",
    "\n",
    "cmap = plt.get_cmap(\"gist_ncar\")\n",
    "norm = plt.Normalize(min(layer), max(layer))\n",
    "\n",
    "for v in g.vertices():\n",
    "    lat, lon = latitude[v], longitude[v]\n",
    "    if name[v] == \"EPWA\":\n",
    "        folium.Marker([lat, lon], popup=name[v]).add_to(map)\n",
    "    else:\n",
    "        color = \"red\" if v in from_warsaw else \"blue\"\n",
    "        radius = 4 if v in from_warsaw else 2\n",
    "        folium.CircleMarker([lat, lon], popup=name[v], color=color, radius=radius).add_to(map)\n",
    "\n",
    "for e in g.edges():\n",
    "    source = g.vertex(e.source())\n",
    "    target = g.vertex(e.target())\n",
    "\n",
    "    if not (name[e.source()] == SELECTED or name[e.target()] == SELECTED):\n",
    "        continue\n",
    "\n",
    "    edge_layer = layer[e]\n",
    "    color = cmap(norm(edge_layer))\n",
    "    color = \"#{:02x}{:02x}{:02x}\".format(\n",
    "        int(color[0] * 255), int(color[1] * 255), int(color[2] * 255)\n",
    "    )\n",
    "    folium.PolyLine(\n",
    "        [(latitude[source], longitude[source]), (latitude[target], longitude[target])],\n",
    "        color=color,\n",
    "        popup=f\"{name[e.source()]} - {name[e.target()]}, by {layer[e]}\",\n",
    "    ).add_to(map)\n",
    "\n",
    "title_html = \"\"\"\n",
    "    <h3 align=\"center\" style=\"font-size:16px\"><b>Interaktywna Mapa Połączeń Lotniczych w Europie</b></h3>\n",
    "    <p align=\"center\" style=\"font-size:12px\">Mapa przedstawiająca połączenia lotnicze pomiędzy EPWA a innymi lotniskami w Europie</p>\n",
    "\"\"\"\n",
    "map.get_root().html.add_child(folium.Element(title_html))\n",
    "\n",
    "map.save(\"map.html\")"
   ]
  }
 ],
 "metadata": {
  "kernelspec": {
   "display_name": "cv",
   "language": "python",
   "name": "python3"
  },
  "language_info": {
   "codemirror_mode": {
    "name": "ipython",
    "version": 3
   },
   "file_extension": ".py",
   "mimetype": "text/x-python",
   "name": "python",
   "nbconvert_exporter": "python",
   "pygments_lexer": "ipython3",
   "version": "3.11.3"
  }
 },
 "nbformat": 4,
 "nbformat_minor": 2
}
